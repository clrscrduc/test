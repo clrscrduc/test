{
 "cells": [
  {
   "cell_type": "code",
   "execution_count": 3,
   "metadata": {},
   "outputs": [],
   "source": [
    "from os import listdir\n",
    "from os.path import join, isfile"
   ]
  },
  {
   "cell_type": "code",
   "execution_count": 4,
   "metadata": {},
   "outputs": [
    {
     "name": "stdout",
     "output_type": "stream",
     "text": [
      "3002\n"
     ]
    }
   ],
   "source": [
    "mypath = './datasets/catsvsdogs/images/'\n",
    "\n",
    "file_name = [f for f in listdir(mypath) if isfile(join(mypath,f))]\n",
    "print(len(file_name))"
   ]
  },
  {
   "cell_type": "code",
   "execution_count": 5,
   "metadata": {},
   "outputs": [],
   "source": [
    "import os\n",
    "import sys\n",
    "import cv2\n",
    "import numpy as np\n",
    "import shutil"
   ]
  },
  {
   "cell_type": "code",
   "execution_count": 7,
   "metadata": {},
   "outputs": [],
   "source": [
    "dir_train = './datasets/catsvsdogs/train/'\n",
    "dir_test = './datasets/catsvsdogs/test/'\n",
    "\n",
    "def make_dir(directory):\n",
    "    if os.path.exists(directory):\n",
    "        shutil.rmtree(directory)\n",
    "    os.makedirs(directory)\n",
    "make_dir(dir_test)\n",
    "make_dir(dir_train)\n",
    "\n",
    "dog_count = 0\n",
    "cat_count = 0\n",
    "X_train = []\n",
    "y_train = []\n",
    "X_test = []\n",
    "y_test = []\n",
    "\n",
    "train_size = 2000\n",
    "test_size = 500\n",
    "\n",
    "for i, file in enumerate(file_name):\n",
    "    if file[0] == 'd':\n",
    "        dog_count += 1\n",
    "        image = cv2.imread(mypath + file)\n",
    "        image = cv2.resize(image,(150,150),interpolation = cv2.INTER_AREA)\n",
    "        if dog_count + cat_count <= train_size:\n",
    "            cv2.imwrite(dir_train + 'dog' + str(dog_count) + '.jpg',image)\n",
    "            X_train.append(image)\n",
    "            y_train.append(1)\n",
    "        else:\n",
    "            if dog_count + cat_count <= train_size + test_size:\n",
    "                cv2.imwrite(dir_test + 'dog' + str(dog_count) + '.jpg', image)\n",
    "                X_test.append(image)\n",
    "                y_test.append(1)\n",
    "                \n",
    "    if file[0] == 'c':\n",
    "        cat_count += 1\n",
    "        image = cv2.imread(mypath + file)\n",
    "        image = cv2.resize(image,(150,150),interpolation = cv2.INTER_AREA)\n",
    "        if dog_count + cat_count <= train_size:\n",
    "            cv2.imwrite(dir_train + 'cat' + str(cat_count) + '.jpg',image)\n",
    "            X_train.append(image)\n",
    "            y_train.append(0)\n",
    "        else:\n",
    "            if dog_count + cat_count <= train_size + test_size:\n",
    "                cv2.imwrite(dir_test + 'cat' + str(cat_count) + '.jpg', image)\n",
    "                X_test.append(image)\n",
    "                y_test.append(0)"
   ]
  },
  {
   "cell_type": "code",
   "execution_count": 10,
   "metadata": {},
   "outputs": [],
   "source": [
    "cv2.imshow('Ori',X_train[2])\n",
    "cv2.waitKey(0)\n",
    "cv2.destroyAllWindows()"
   ]
  },
  {
   "cell_type": "code",
   "execution_count": 11,
   "metadata": {},
   "outputs": [
    {
     "data": {
      "text/plain": [
       "2000"
      ]
     },
     "execution_count": 11,
     "metadata": {},
     "output_type": "execute_result"
    }
   ],
   "source": [
    "len(X_train)"
   ]
  },
  {
   "cell_type": "code",
   "execution_count": 12,
   "metadata": {},
   "outputs": [],
   "source": [
    "X_train = np.array(X_train)"
   ]
  },
  {
   "cell_type": "code",
   "execution_count": 14,
   "metadata": {},
   "outputs": [],
   "source": [
    "X_test = np.array(X_test)\n",
    "y_train = np.array(y_train)\n",
    "y_test = np.array(y_test)"
   ]
  },
  {
   "cell_type": "code",
   "execution_count": 27,
   "metadata": {},
   "outputs": [],
   "source": [
    "X_test = X_test.astype('float32')\n",
    "X_train = X_train.astype('float32')\n",
    "X_test /= 255\n",
    "X_train /= 255 "
   ]
  },
  {
   "cell_type": "code",
   "execution_count": 29,
   "metadata": {},
   "outputs": [
    {
     "data": {
      "text/plain": [
       "(2000, 150, 150, 3)"
      ]
     },
     "execution_count": 29,
     "metadata": {},
     "output_type": "execute_result"
    }
   ],
   "source": [
    "X_train.sha"
   ]
  },
  {
   "cell_type": "code",
   "execution_count": 17,
   "metadata": {},
   "outputs": [],
   "source": [
    "import keras"
   ]
  },
  {
   "cell_type": "code",
   "execution_count": 21,
   "metadata": {},
   "outputs": [],
   "source": [
    "from keras.models import Sequential\n",
    "from keras.layers import Dense, Dropout, MaxPooling2D, Flatten, Conv2D"
   ]
  },
  {
   "cell_type": "code",
   "execution_count": 22,
   "metadata": {},
   "outputs": [],
   "source": [
    "from keras.optimizers import SGD"
   ]
  },
  {
   "cell_type": "code",
   "execution_count": 50,
   "metadata": {},
   "outputs": [],
   "source": [
    "model = Sequential()\n",
    "\n",
    "model.add(Conv2D(16,(3,3),activation='relu',input_shape = (X_test[1].shape)))\n",
    "model.add(Conv2D(32,(3,3),activation='relu'))\n",
    "model.add(MaxPooling2D(pool_size=(2,2)))\n",
    "model.add(Conv2D(64,(3,3),activation='relu',input_shape = (X_test[1])))\n",
    "model.add(MaxPooling2D((2,2)))\n",
    "model.add(Conv2D(64,(3,3),activation='relu',input_shape = (X_test[1])))\n",
    "model.add(MaxPooling2D((2,2)))\n",
    "\n",
    "\n",
    "model.add(Dropout(0.25))\n",
    "model.add(Flatten())\n",
    "\n",
    "model.add(Dense(128,activation='relu'))\n",
    "model.add(Dropout(0.25))\n",
    "model.add(Dense(1,activation='sigmoid'))\n",
    "          \n",
    "model.compile(loss='binary_crossentropy', metrics='accuracy')"
   ]
  },
  {
   "cell_type": "code",
   "execution_count": 46,
   "metadata": {},
   "outputs": [
    {
     "name": "stdout",
     "output_type": "stream",
     "text": [
      "Model: \"sequential_10\"\n",
      "_________________________________________________________________\n",
      "Layer (type)                 Output Shape              Param #   \n",
      "=================================================================\n",
      "conv2d_27 (Conv2D)           (None, 148, 148, 16)      448       \n",
      "_________________________________________________________________\n",
      "conv2d_28 (Conv2D)           (None, 146, 146, 32)      4640      \n",
      "_________________________________________________________________\n",
      "max_pooling2d_15 (MaxPooling (None, 73, 73, 32)        0         \n",
      "_________________________________________________________________\n",
      "conv2d_29 (Conv2D)           (None, 71, 71, 64)        18496     \n",
      "_________________________________________________________________\n",
      "max_pooling2d_16 (MaxPooling (None, 35, 35, 64)        0         \n",
      "_________________________________________________________________\n",
      "conv2d_30 (Conv2D)           (None, 33, 33, 64)        36928     \n",
      "_________________________________________________________________\n",
      "max_pooling2d_17 (MaxPooling (None, 16, 16, 64)        0         \n",
      "_________________________________________________________________\n",
      "dropout_23 (Dropout)         (None, 16, 16, 64)        0         \n",
      "_________________________________________________________________\n",
      "flatten_5 (Flatten)          (None, 16384)             0         \n",
      "_________________________________________________________________\n",
      "dense_25 (Dense)             (None, 128)               2097280   \n",
      "_________________________________________________________________\n",
      "dropout_24 (Dropout)         (None, 128)               0         \n",
      "_________________________________________________________________\n",
      "dense_26 (Dense)             (None, 1)                 129       \n",
      "=================================================================\n",
      "Total params: 2,157,921\n",
      "Trainable params: 2,157,921\n",
      "Non-trainable params: 0\n",
      "_________________________________________________________________\n",
      "None\n"
     ]
    }
   ],
   "source": [
    "print(model.summary())"
   ]
  },
  {
   "cell_type": "code",
   "execution_count": 51,
   "metadata": {},
   "outputs": [
    {
     "name": "stdout",
     "output_type": "stream",
     "text": [
      "Epoch 1/5\n",
      "125/125 [==============================] - 33s 267ms/step - loss: 0.7073 - accuracy: 0.5385 - val_loss: 0.6566 - val_accuracy: 0.5980\n",
      "Epoch 2/5\n",
      "125/125 [==============================] - 33s 260ms/step - loss: 0.6696 - accuracy: 0.6110 - val_loss: 0.6358 - val_accuracy: 0.6540\n",
      "Epoch 3/5\n",
      "125/125 [==============================] - 33s 262ms/step - loss: 0.6199 - accuracy: 0.6600 - val_loss: 0.6718 - val_accuracy: 0.5800\n",
      "Epoch 4/5\n",
      "125/125 [==============================] - 33s 266ms/step - loss: 0.5824 - accuracy: 0.7045 - val_loss: 0.5943 - val_accuracy: 0.6840\n",
      "Epoch 5/5\n",
      "125/125 [==============================] - 34s 268ms/step - loss: 0.5171 - accuracy: 0.7530 - val_loss: 0.6247 - val_accuracy: 0.7080\n"
     ]
    },
    {
     "data": {
      "text/plain": [
       "<tensorflow.python.keras.callbacks.History at 0x7fb0eebd5430>"
      ]
     },
     "execution_count": 51,
     "metadata": {},
     "output_type": "execute_result"
    }
   ],
   "source": [
    "model.fit(X_train,y_train,batch_size=16,epochs=5,validation_data=(X_test,y_test))"
   ]
  },
  {
   "cell_type": "code",
   "execution_count": 52,
   "metadata": {},
   "outputs": [],
   "source": [
    "file = [f for f in listdir(dir_test) if isfile(join(dir_test,f))]"
   ]
  },
  {
   "cell_type": "code",
   "execution_count": null,
   "metadata": {},
   "outputs": [],
   "source": [
    "for i in range(10):\n",
    "    pos = np.random.randint(0,500)\n",
    "    image = cv2.imread(dir_test + file[pos])\n",
    "    expand = cv2.copyMakeBorder(image,0,0,0,100,cv2.BORDER_CONSTANT)\n",
    "   \n",
    "    new = image.reshape(1,150,150,3)\n",
    "    pre = str(model.predict_classes(new/255)[0][0])\n",
    "    if pre == '0':\n",
    "        text = 'cat'\n",
    "    else:\n",
    "        text = 'dog'\n",
    "    \n",
    "    cv2.putText(expand,text,(160,100),cv2.FONT_HERSHEY_SCRIPT_COMPLEX,2,(0,255,0),2)\n",
    "    cv2.imshow('Pre',expand)\n",
    "    cv2.waitKey()\n",
    "cv2.destroyAllWindows()"
   ]
  },
  {
   "cell_type": "code",
   "execution_count": 67,
   "metadata": {},
   "outputs": [],
   "source": [
    "image = cv2.imread(dir_test + file[10])\n"
   ]
  },
  {
   "cell_type": "code",
   "execution_count": 68,
   "metadata": {},
   "outputs": [],
   "source": [
    "image = image.reshape(1,150,150,3)"
   ]
  },
  {
   "cell_type": "code",
   "execution_count": 69,
   "metadata": {},
   "outputs": [
    {
     "data": {
      "text/plain": [
       "'0'"
      ]
     },
     "execution_count": 69,
     "metadata": {},
     "output_type": "execute_result"
    }
   ],
   "source": [
    "str(model.predict_classes(image/255)[0][0])"
   ]
  },
  {
   "cell_type": "code",
   "execution_count": null,
   "metadata": {},
   "outputs": [],
   "source": []
  }
 ],
 "metadata": {
  "kernelspec": {
   "display_name": "Python 3",
   "language": "python",
   "name": "python3"
  },
  "language_info": {
   "codemirror_mode": {
    "name": "ipython",
    "version": 3
   },
   "file_extension": ".py",
   "mimetype": "text/x-python",
   "name": "python",
   "nbconvert_exporter": "python",
   "pygments_lexer": "ipython3",
   "version": "3.8.5"
  }
 },
 "nbformat": 4,
 "nbformat_minor": 4
}
